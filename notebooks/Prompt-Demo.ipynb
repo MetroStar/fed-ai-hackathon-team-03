{
 "cells": [
  {
   "cell_type": "markdown",
   "id": "0fe76611",
   "metadata": {},
   "source": [
    "# Generative AI Discovery and Query Helper"
   ]
  },
  {
   "cell_type": "code",
   "execution_count": 1,
   "id": "046a4541",
   "metadata": {},
   "outputs": [],
   "source": [
    "import PromptUtils"
   ]
  },
  {
   "cell_type": "markdown",
   "id": "ae9a6343",
   "metadata": {},
   "source": [
    "# User query and target site"
   ]
  },
  {
   "cell_type": "code",
   "execution_count": 2,
   "id": "38c45e69",
   "metadata": {},
   "outputs": [],
   "source": [
    "user_query= \"I want to submit a proposal to NSF to understand and process animal sounds and language. \"\\\n",
    "\"Is my idea or topic already funded at NSF? Which program and program officer can I talk to about my idea?\"\n",
    "\n",
    "# NSF proxy\n",
    "site =  \"https://staging.d1ry1fe2t57064.amplifyapp.com/\"\n"
   ]
  },
  {
   "cell_type": "markdown",
   "id": "218a81fd",
   "metadata": {},
   "source": [
    "# Interogate target site and determine what next steps are given the query"
   ]
  },
  {
   "cell_type": "code",
   "execution_count": 3,
   "id": "e250a230",
   "metadata": {},
   "outputs": [
    {
     "name": "stdout",
     "output_type": "stream",
     "text": [
      "Look at the the following page \"https://staging.d1ry1fe2t57064.amplifyapp.com/\" and look for AI instructions, given this question \"I want to submit a proposal to NSF to understand and process animal sounds and language. Is my idea or topic already funded at NSF? Which program and program officer can I talk to about my idea?\", Return the relevant instructions.\n"
     ]
    }
   ],
   "source": [
    "response = PromptUtils.interrogate(site, user_query)"
   ]
  },
  {
   "cell_type": "code",
   "execution_count": 4,
   "id": "c7562915",
   "metadata": {},
   "outputs": [
    {
     "name": "stdout",
     "output_type": "stream",
     "text": [
      " Given the fields and descriptions described in this page, https://www.nsf.gov/awardsearch/advancedSearch.jsp. Rewrite this user query: <insert your query here>, with the essential keywords needed to return the relevant documents. Craft your response as an API call described here https://resources.research.gov/common/webapi/awardapisearch-v1.htm. Only return the API URL.\n"
     ]
    }
   ],
   "source": [
    "print (response)"
   ]
  },
  {
   "cell_type": "markdown",
   "id": "9f60b930",
   "metadata": {},
   "source": [
    "# Use that next step instruction to refine the query"
   ]
  },
  {
   "cell_type": "code",
   "execution_count": 5,
   "id": "c825ebe6",
   "metadata": {},
   "outputs": [
    {
     "name": "stdout",
     "output_type": "stream",
     "text": [
      "Based on the provided context and the user query, the relevant API call to search for relevant NSF awards would be:\n",
      "\n",
      "https://api.nsf.gov/services/v1/awards.json?&fundProgramName=Biological%20Sciences&abstracText=animal%20sounds%20language&printField=awardeeName,fundProgramName,title,awardeeAddress,startDate,expDateStr,fundsObligatedAmt,abstractText,piFirstName,piLastName,piEmail\n",
      "\n",
      "This API call searches for awards within the \"Biological Sciences\" program that contain the keywords \"animal sounds language\" in the abstract text. It returns information such as the awardee name, program name, project title, awardee address, start and end dates, funds obligated, abstract text, and the principal investigator's name and email address.\n"
     ]
    }
   ],
   "source": [
    "new_query = PromptUtils.craft_query(response, user_query)"
   ]
  },
  {
   "cell_type": "code",
   "execution_count": 6,
   "id": "d7b89531",
   "metadata": {},
   "outputs": [
    {
     "name": "stdout",
     "output_type": "stream",
     "text": [
      "https://api.nsf.gov/services/v1/awards.json?&fundProgramName=Biological%20Sciences&abstracText=animal%20sounds%20language&printField=awardeeName,fundProgramName,title,awardeeAddress,startDate,expDateStr,fundsObligatedAmt,abstractText,piFirstName,piLastName,piEmail\n"
     ]
    }
   ],
   "source": [
    "print(new_query)"
   ]
  },
  {
   "cell_type": "markdown",
   "id": "cc909390",
   "metadata": {},
   "source": [
    "# Execute the new query"
   ]
  },
  {
   "cell_type": "code",
   "execution_count": 7,
   "id": "d8eb0916",
   "metadata": {},
   "outputs": [],
   "source": [
    "# execute query\n",
    "results = PromptUtils.execute_query(new_query)"
   ]
  },
  {
   "cell_type": "code",
   "execution_count": 8,
   "id": "15b1ec00",
   "metadata": {},
   "outputs": [
    {
     "name": "stdout",
     "output_type": "stream",
     "text": [
      "{'response': {'award': [{'agency': 'NSF', 'awardeeCity': 'FLAGSTAFF', 'awardeeName': 'Northern Arizona University', 'awardeeStateCode': 'AZ', 'fundsObligatedAmt': '1239688', 'id': '2350456', 'publicAccessMandate': '1', 'date': '07/01/2024', 'startDate': '01/01/2025', 'title': 'Collaborative Research: CrustNet: Global determinants of biodiversity in biocrusts, and outcomes for ecosystem function, resistance and resilience'}, {'agency': 'NSF', 'awardeeCity': 'COLLEGE PARK', 'awardeeName': 'University of Maryland, College Park', 'awardeeStateCode': 'MD', 'fundsObligatedAmt': '349237', 'id': '2419996', 'publicAccessMandate': '1', 'date': '07/26/2024', 'startDate': '10/01/2024', 'title': 'A Novel Measure of Organizational Engagement with ESG Based on 2008-2023 Job Postings Data in the U.S.'}, {'agency': 'NSF', 'awardeeCity': 'AUSTIN', 'awardeeName': 'University of Texas at Austin', 'awardeeStateCode': 'TX', 'fundsObligatedAmt': '672065', 'id': '2339861', 'publicAccessMandate': '1', 'date': '07/05/2024', 'startDate': '09/01/2024', 'title': 'CAREER: Charting the zoogeochemistry of coral reef ecosystems through an integrative structure-to-function framework'}, {'agency': 'NSF', 'awardeeCity': 'WORCESTER', 'awardeeName': 'Clark University', 'awardeeStateCode': 'MA', 'fundsObligatedAmt': '779514', 'id': '2419392', 'publicAccessMandate': '1', 'date': '07/22/2024', 'startDate': '09/01/2024', 'title': 'SBP: Individual and contextual factors that support language learning and academic performance in bilingual classrooms'}, {'agency': 'NSF', 'awardeeCity': 'COLUMBUS', 'awardeeName': 'Ohio State University', 'awardeeStateCode': 'OH', 'fundsObligatedAmt': '649851', 'id': '2419389', 'publicAccessMandate': '1', 'date': '06/26/2024', 'startDate': '09/01/2024', 'title': 'Family-level antecedents of the development of “theory of mind” and narrative comprehension in early childhood.'}, {'agency': 'NSF', 'awardeeCity': 'BLACKSBURG', 'awardeeName': 'Virginia Polytechnic Institute and State University', 'awardeeStateCode': 'VA', 'fundsObligatedAmt': '224827', 'id': '2400622', 'publicAccessMandate': '1', 'date': '06/25/2024', 'startDate': '08/01/2024', 'title': 'Collaborative Research: Quantifying terrestrial riparian-stream carbon connections across a salt gradient'}, {'agency': 'NSF', 'awardeeCity': 'DURHAM', 'awardeeName': 'North Carolina Central University', 'awardeeStateCode': 'NC', 'fundsObligatedAmt': '100000', 'id': '2416388', 'publicAccessMandate': '1', 'date': '07/03/2024', 'startDate': '08/01/2024', 'title': 'Conference: North Carolina Central University School of Law - Annual Law and Technology Summit'}, {'agency': 'NSF', 'awardeeCity': 'TUCSON', 'awardeeName': 'University of Arizona', 'awardeeStateCode': 'AZ', 'fundsObligatedAmt': '445554', 'id': '2337564', 'publicAccessMandate': '1', 'date': '01/08/2024', 'startDate': '08/01/2024', 'title': 'CAREER: How Collaboration and Competition Influence Research in the Emerging Field of Artificial Intelligence'}, {'agency': 'NSF', 'awardeeCity': 'AMES', 'awardeeName': 'Iowa State University', 'awardeeStateCode': 'IA', 'fundsObligatedAmt': '305912', 'id': '2346661', 'publicAccessMandate': '1', 'date': '07/03/2024', 'startDate': '08/01/2024', 'title': 'Collaborative Research: Framework for Better Visual Communication Practices'}, {'agency': 'NSF', 'awardeeCity': 'FAYETTEVILLE', 'awardeeName': 'University of Arkansas Agricultural Experiment Station', 'awardeeStateCode': 'AR', 'fundsObligatedAmt': '503649', 'id': '2400620', 'publicAccessMandate': '1', 'date': '06/25/2024', 'startDate': '08/01/2024', 'title': 'Collaborative Research: Quantifying terrestrial riparian-stream carbon connections across a salt gradient'}, {'agency': 'NSF', 'awardeeCity': 'CHICAGO', 'awardeeName': 'National Opinion Research Center', 'awardeeStateCode': 'IL', 'fundsObligatedAmt': '336194', 'id': '2346660', 'publicAccessMandate': '1', 'date': '07/03/2024', 'startDate': '08/01/2024', 'title': 'Collaborative Research: Framework for Better Visual Communication Practices'}, {'agency': 'NSF', 'awardeeCity': 'FAYETTEVILLE', 'awardeeName': 'University of Arkansas', 'awardeeStateCode': 'AR', 'fundsObligatedAmt': '219815', 'id': '2400621', 'publicAccessMandate': '1', 'date': '06/25/2024', 'startDate': '08/01/2024', 'title': 'Collaborative Research: Quantifying terrestrial riparian-stream carbon connections across a salt gradient'}, {'agency': 'NSF', 'awardeeCity': 'TUSCALOOSA', 'awardeeName': 'University of Alabama Tuscaloosa', 'awardeeStateCode': 'AL', 'fundsObligatedAmt': '585001', 'id': '2341398', 'publicAccessMandate': '1', 'date': '05/22/2024', 'startDate': '08/01/2024', 'title': 'Causal connections among infant motor actions and word learning'}, {'agency': 'NSF', 'awardeeCity': 'TUCSON', 'awardeeName': 'University of Arizona', 'awardeeStateCode': 'AZ', 'fundsObligatedAmt': '522000', 'id': '2340426', 'publicAccessMandate': '1', 'date': '06/25/2024', 'startDate': '07/01/2024', 'title': 'LangDiv: Beyond object-label mappings: A temporal microanalysis of toddler semantic and lexical integration'}, {'agency': 'NSF', 'awardeeCity': 'HEMPSTEAD', 'awardeeName': 'Hofstra University', 'awardeeStateCode': 'NY', 'fundsObligatedAmt': '452969', 'id': '2334522', 'publicAccessMandate': '1', 'date': '06/21/2024', 'startDate': '07/01/2024', 'title': 'BRC-BIO: Structure and functioning of microbial plankton under coastal hypoxia'}, {'agency': 'NSF', 'awardeeCity': 'HUNTSVILLE', 'awardeeName': 'Sam Houston State University', 'awardeeStateCode': 'TX', 'fundsObligatedAmt': '148939', 'id': '2340642', 'publicAccessMandate': '1', 'date': '04/12/2024', 'startDate': '07/01/2024', 'title': 'CAREER: Using fossil bivalves to study controls on longevity and establish a paleobiological learning ecosystem in southeast Texas'}, {'agency': 'NSF', 'awardeeCity': 'TAMPA', 'awardeeName': 'University of South Florida', 'awardeeStateCode': 'FL', 'fundsObligatedAmt': '370236', 'id': '2341382', 'publicAccessMandate': '1', 'date': '06/13/2024', 'startDate': '07/01/2024', 'title': 'Collaborative Research: Using Sensing Technology and Automated Speech Recognition to Capture Teacher Language Interactions in Diverse Pre-K Classrooms'}, {'agency': 'NSF', 'awardeeCity': 'LA JOLLA', 'awardeeName': 'University of California-San Diego Scripps Inst of Oceanography', 'awardeeStateCode': 'CA', 'fundsObligatedAmt': '733423', 'id': '2329559', 'publicAccessMandate': '1', 'date': '01/22/2024', 'startDate': '07/01/2024', 'title': 'Collaborative Research: Assessing the causes of the pyrosome invasion and persistence in the California Current Ecosystem'}, {'agency': 'NSF', 'awardeeCity': 'RICHARDSON', 'awardeeName': 'University of Texas at Dallas', 'awardeeStateCode': 'TX', 'fundsObligatedAmt': '169965', 'id': '2341384', 'publicAccessMandate': '1', 'date': '06/13/2024', 'startDate': '07/01/2024', 'title': 'Collaborative Research: Using Sensing Technology and Automated Speech Recognition to Capture Teacher Language Interactions in Diverse Pre-K Classrooms'}, {'agency': 'NSF', 'awardeeCity': 'GAINESVILLE', 'awardeeName': 'University of Florida', 'awardeeStateCode': 'FL', 'fundsObligatedAmt': '109799', 'id': '2341383', 'publicAccessMandate': '1', 'date': '06/13/2024', 'startDate': '07/01/2024', 'title': 'Collaborative Research: Using Sensing Technology and Automated Speech Recognition to Capture Teacher Language Interactions in Diverse Pre-K Classrooms'}, {'agency': 'NSF', 'awardeeCity': 'SAN DIEGO', 'awardeeName': 'University of San Diego', 'awardeeStateCode': 'CA', 'fundsObligatedAmt': '81751', 'id': '2329561', 'publicAccessMandate': '1', 'date': '01/22/2024', 'startDate': '07/01/2024', 'title': 'RUI: Collaborative Research: Assessing the causes of the pyrosome invasion and persistence in the California Current Ecosystem'}, {'agency': 'NSF', 'awardeeCity': 'TEMPE', 'awardeeName': 'Arizona State University', 'awardeeStateCode': 'AZ', 'fundsObligatedAmt': '55389', 'id': '2412498', 'publicAccessMandate': '1', 'date': '05/21/2024', 'startDate': '06/01/2024', 'title': 'Conference: An integrated approach to understanding diseases of the past: the role of environmental conditions, animal behavior, and human activity in pathogen transmission'}, {'agency': 'NSF', 'awardeeCity': 'SYRACUSE', 'awardeeName': 'SUNY College of Environmental Science and Forestry', 'awardeeStateCode': 'NY', 'fundsObligatedAmt': '120249', 'id': '2404160', 'publicAccessMandate': '1', 'date': '05/02/2024', 'startDate': '06/01/2024', 'title': 'Collaborative Research: CAS: Filling Gaps in the Environmental Fate of Lubabegron, an Emerging use Beta-adrenergic Receptor Agonist/Antagonist Proposed for Sustainable Agriculture'}, {'agency': 'NSF', 'awardeeCity': 'NEWARK', 'awardeeName': 'Rutgers University Newark', 'awardeeStateCode': 'NJ', 'fundsObligatedAmt': '648938', 'id': '2333886', 'publicAccessMandate': '1', 'date': '03/29/2024', 'startDate': '06/01/2024', 'title': 'Developmental relations between emotion input and emotion perception'}, {'agency': 'NSF', 'awardeeCity': 'IOWA CITY', 'awardeeName': 'University of Iowa', 'awardeeStateCode': 'IA', 'fundsObligatedAmt': '276127', 'id': '2404162', 'publicAccessMandate': '1', 'date': '05/02/2024', 'startDate': '06/01/2024', 'title': 'Collaborative Research: CAS: Filling Gaps in the Environmental Fate of Lubabegron, an Emerging use Beta-adrenergic Receptor Agonist/Antagonist Proposed for Sustainable Agriculture'}]}}\n"
     ]
    }
   ],
   "source": [
    "# rag Results\n",
    "print(results)"
   ]
  }
 ],
 "metadata": {
  "kernelspec": {
   "display_name": "conda_python3",
   "language": "python",
   "name": "conda_python3"
  },
  "language_info": {
   "codemirror_mode": {
    "name": "ipython",
    "version": 3
   },
   "file_extension": ".py",
   "mimetype": "text/x-python",
   "name": "python",
   "nbconvert_exporter": "python",
   "pygments_lexer": "ipython3",
   "version": "3.10.14"
  }
 },
 "nbformat": 4,
 "nbformat_minor": 5
}
