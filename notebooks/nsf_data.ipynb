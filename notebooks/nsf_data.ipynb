{
 "cells": [
  {
   "cell_type": "code",
   "execution_count": 1,
   "id": "4ed0a18a-423d-47f6-8a2c-791fc8f6fa89",
   "metadata": {},
   "outputs": [],
   "source": [
    "import requests\n",
    "import json"
   ]
  },
  {
   "cell_type": "code",
   "execution_count": 2,
   "id": "d1d7df5a-25f2-482f-9850-19706961a455",
   "metadata": {},
   "outputs": [],
   "source": [
    "def get_award_data(keyword, exp_date_end=None, start_offset=1, limit=25, num_batches=10, output_file=\"awards.json\"):\n",
    "    base_url = \"http://api.nsf.gov/services/v1/awards.json\"\n",
    "    all_fields = (\n",
    "        \"rpp,offset,id,agency,awardeeCity,awardeeCountryCode,awardeeDistrictCode,awardeeName,\"\n",
    "        \"awardeeStateCode,awardeeZipCode,cfdaNumber,coPDPI,date,startDate,expDate,estimatedTotalAmt,\"\n",
    "        \"fundsObligatedAmt,ueiNumber,fundProgramName,parentUeiNumber,pdPIName,perfCity,perfCountryCode,\"\n",
    "        \"perfDistrictCode,perfLocation,perfStateCode,perfZipCode,poName,primaryProgram,transType,title,\"\n",
    "        \"awardee,poPhone,poEmail,awardeeAddress,perfAddress,publicationResearch,publicationConference,\"\n",
    "        \"fundAgencyCode,awardAgencyCode,projectOutComesReport,abstractText,piFirstName,piMiddleInitial,piLastName,piEmail\"\n",
    "    )\n",
    "    results = []\n",
    "    \n",
    "    for batch in range(num_batches):\n",
    "        offset = start_offset + batch * limit\n",
    "        params = {\n",
    "            \"callback\": \"processJson\",\n",
    "            \"keyword\": keyword,\n",
    "            \"rpp\": limit,\n",
    "            \"offset\": offset,\n",
    "            \"printFields\": all_fields\n",
    "        }\n",
    "        \n",
    "        if exp_date_end:\n",
    "            params[\"expDateEnd\"] = exp_date_end\n",
    "        \n",
    "        response = requests.get(base_url, params=params)\n",
    "        if response.status_code == 200:\n",
    "            # Extract JSON data from response text (remove 'processJson(' prefix and ')' suffix)\n",
    "            json_text = response.text[len(\"processJson(\"):-1]\n",
    "            try:\n",
    "                data = json.loads(json_text)\n",
    "                if 'response' in data and 'award' in data['response']:\n",
    "                    results.extend(data['response']['award'])\n",
    "                elif 'award' in data:\n",
    "                    results.extend(data['award'])\n",
    "                else:\n",
    "                    print(f\"Unexpected response structure in batch {batch + 1}: {data}\")\n",
    "            except json.JSONDecodeError as e:\n",
    "                print(f\"JSON decoding error in batch {batch + 1}: {e}\")\n",
    "        else:\n",
    "            print(f\"Failed to fetch batch {batch + 1}: {response.status_code}\")\n",
    "            break\n",
    "\n",
    "    # Filter results to include only those with a project outcomes report\n",
    "    results_with_outcomes = [award for award in results if 'projectOutComesReport' in award]\n",
    "\n",
    "    # Save results to a file\n",
    "    with open(output_file, \"w\") as f:\n",
    "        json.dump(results_with_outcomes, f, indent=4)\n",
    "        \n",
    "    print(f\"Data saved to {output_file}\")"
   ]
  },
  {
   "cell_type": "code",
   "execution_count": 3,
   "id": "a6bfffc4-3e2d-450e-af18-5aa1a9aa81ab",
   "metadata": {},
   "outputs": [
    {
     "name": "stdout",
     "output_type": "stream",
     "text": [
      "Data saved to awards_new.json\n"
     ]
    }
   ],
   "source": [
    "keyword = \"animal sounds language\"\n",
    "exp_date_end = \"07/30/2024\"\n",
    "# exp_date_end = None\n",
    "# start_offset = 251\n",
    "start_offset = 1\n",
    "output_file = \"awards_new.json\"\n",
    "get_award_data(keyword, exp_date_end=exp_date_end, start_offset=start_offset, num_batches=5, output_file=output_file)"
   ]
  }
 ],
 "metadata": {
  "kernelspec": {
   "display_name": "Python 3 (ipykernel)",
   "language": "python",
   "name": "python3"
  },
  "language_info": {
   "codemirror_mode": {
    "name": "ipython",
    "version": 3
   },
   "file_extension": ".py",
   "mimetype": "text/x-python",
   "name": "python",
   "nbconvert_exporter": "python",
   "pygments_lexer": "ipython3",
   "version": "3.12.4"
  }
 },
 "nbformat": 4,
 "nbformat_minor": 5
}
